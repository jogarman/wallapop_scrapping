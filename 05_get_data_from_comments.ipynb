{
 "cells": [
  {
   "cell_type": "markdown",
   "metadata": {},
   "source": [
    "Extrae el % de bateria del comentario y lo pega en la columna de bateria"
   ]
  },
  {
   "cell_type": "code",
   "execution_count": 1,
   "metadata": {},
   "outputs": [],
   "source": [
    "import pandas as pd\n",
    "import re\n",
    "from datetime import datetime"
   ]
  },
  {
   "cell_type": "code",
   "execution_count": 2,
   "metadata": {},
   "outputs": [],
   "source": [
    "elemento_a_buscar = \"iphone\"\n",
    "\n",
    "carpeta = \"4_download_description\"\n",
    "fecha = datetime.now().strftime(\"%Y%m%d\")\n",
    "fecha = \"20250117\""
   ]
  },
  {
   "cell_type": "code",
   "execution_count": 3,
   "metadata": {},
   "outputs": [
    {
     "data": {
      "text/html": [
       "<div>\n",
       "<style scoped>\n",
       "    .dataframe tbody tr th:only-of-type {\n",
       "        vertical-align: middle;\n",
       "    }\n",
       "\n",
       "    .dataframe tbody tr th {\n",
       "        vertical-align: top;\n",
       "    }\n",
       "\n",
       "    .dataframe thead th {\n",
       "        text-align: right;\n",
       "    }\n",
       "</style>\n",
       "<table border=\"1\" class=\"dataframe\">\n",
       "  <thead>\n",
       "    <tr style=\"text-align: right;\">\n",
       "      <th></th>\n",
       "      <th>id</th>\n",
       "      <th>fecha</th>\n",
       "      <th>gen</th>\n",
       "      <th>mod</th>\n",
       "      <th>memoria</th>\n",
       "      <th>bateria</th>\n",
       "      <th>precio</th>\n",
       "      <th>estado</th>\n",
       "      <th>nombre</th>\n",
       "      <th>scrap_locat</th>\n",
       "      <th>dist_scrap_locat</th>\n",
       "      <th>reservado</th>\n",
       "      <th>url</th>\n",
       "      <th>tiene_color</th>\n",
       "      <th>tiene_emojis</th>\n",
       "      <th>tiene_revisado</th>\n",
       "      <th>comentario</th>\n",
       "    </tr>\n",
       "  </thead>\n",
       "  <tbody>\n",
       "    <tr>\n",
       "      <th>0</th>\n",
       "      <td>1033637533</td>\n",
       "      <td>20250117</td>\n",
       "      <td>14</td>\n",
       "      <td>basic</td>\n",
       "      <td>128</td>\n",
       "      <td>NaN</td>\n",
       "      <td>615,37</td>\n",
       "      <td>good</td>\n",
       "      <td>apple iphone 14 128gb amarillo - revisado</td>\n",
       "      <td>madrid</td>\n",
       "      <td>60</td>\n",
       "      <td>False</td>\n",
       "      <td>https://es.wallapop.com/item/apple-iphone-14-1...</td>\n",
       "      <td>True</td>\n",
       "      <td>True</td>\n",
       "      <td>True</td>\n",
       "      <td>NaN</td>\n",
       "    </tr>\n",
       "    <tr>\n",
       "      <th>1</th>\n",
       "      <td>1041328668</td>\n",
       "      <td>20250117</td>\n",
       "      <td>14</td>\n",
       "      <td>pro</td>\n",
       "      <td>256</td>\n",
       "      <td>NaN</td>\n",
       "      <td>755,00</td>\n",
       "      <td>as_good_as_new</td>\n",
       "      <td>iphone 14 pro 256gb</td>\n",
       "      <td>madrid</td>\n",
       "      <td>60</td>\n",
       "      <td>False</td>\n",
       "      <td>https://es.wallapop.com/item/iphone-14-pro-256...</td>\n",
       "      <td>False</td>\n",
       "      <td>False</td>\n",
       "      <td>False</td>\n",
       "      <td>Detalles del producto\\nVendo Iphone 14 pro 256...</td>\n",
       "    </tr>\n",
       "  </tbody>\n",
       "</table>\n",
       "</div>"
      ],
      "text/plain": [
       "           id     fecha  gen    mod memoria  bateria  precio          estado  \\\n",
       "0  1033637533  20250117   14  basic     128      NaN  615,37            good   \n",
       "1  1041328668  20250117   14    pro     256      NaN  755,00  as_good_as_new   \n",
       "\n",
       "                                      nombre scrap_locat  dist_scrap_locat  \\\n",
       "0  apple iphone 14 128gb amarillo - revisado      madrid                60   \n",
       "1                        iphone 14 pro 256gb      madrid                60   \n",
       "\n",
       "   reservado                                                url  tiene_color  \\\n",
       "0      False  https://es.wallapop.com/item/apple-iphone-14-1...         True   \n",
       "1      False  https://es.wallapop.com/item/iphone-14-pro-256...        False   \n",
       "\n",
       "   tiene_emojis  tiene_revisado  \\\n",
       "0          True            True   \n",
       "1         False           False   \n",
       "\n",
       "                                          comentario  \n",
       "0                                                NaN  \n",
       "1  Detalles del producto\\nVendo Iphone 14 pro 256...  "
      ]
     },
     "execution_count": 3,
     "metadata": {},
     "output_type": "execute_result"
    }
   ],
   "source": [
    "\n",
    "nombre_archivo = fecha + '_' + elemento_a_buscar\n",
    "df_original = pd.read_csv(carpeta + '/' + nombre_archivo + '.csv')\n",
    "df_original.drop('Unnamed: 0', axis=1, inplace=True)\n",
    "df_original.head(2)"
   ]
  },
  {
   "cell_type": "code",
   "execution_count": 4,
   "metadata": {},
   "outputs": [],
   "source": [
    "df = df_original.copy()"
   ]
  },
  {
   "cell_type": "code",
   "execution_count": 5,
   "metadata": {},
   "outputs": [],
   "source": [
    "def encontrar_bateria(texto: str):\n",
    "    # Verificar si el texto es NaN o similar\n",
    "    if pd.isna(texto):\n",
    "        return None\n",
    "    # Buscar números seguidos por %\n",
    "    numeros_con_porcentaje = re.findall(r'\\b(8[0-9]|9[0-9]|100)\\b%', texto)\n",
    "    # Si encuentra números con %, devolver el primero\n",
    "    if numeros_con_porcentaje:\n",
    "        return numeros_con_porcentaje[0] \n",
    "    # Si no hay % buscar solo los números\n",
    "    numeros = re.findall(r'\\b(8[0-9]|9[0-9]|100)\\b', texto)\n",
    "    # Si encuentra números, devolver el primero\n",
    "    if numeros:\n",
    "        return numeros[0]\n",
    "    # Si no encuentra ningún número, devolver None\n",
    "    return None"
   ]
  },
  {
   "cell_type": "code",
   "execution_count": 6,
   "metadata": {},
   "outputs": [],
   "source": [
    "# buscar 128|256|512 seguido de \\s*(Mb|MB|mb)\n",
    "# si no, buscar \\b1[Tt]\\b\n",
    "# si no, buscar \\b(128|256|512)\\b\n",
    "def encontrar_memoria(texto: str) -> str:\n",
    "    if pd.isna(texto):\n",
    "        return None\n",
    "    texto = str(texto)\n",
    "    \n",
    "    # Buscar 128|256|512 seguido de \\s*(Mb|MB|mb)\n",
    "    memorias_con_unidades = re.search(r'\\b(128|256|512)\\b\\s*(Mb|MB|mb)', texto)\n",
    "    if memorias_con_unidades:\n",
    "        memoria, unidad = memorias_con_unidades.groups()\n",
    "        return memoria + unidad\n",
    "    \n",
    "    # Buscar \\b1[Tt]\\b\n",
    "    memoria_1t = re.search(r'\\b1[Tt]', texto)\n",
    "    if memoria_1t:\n",
    "        return '_1T'\n",
    "    \n",
    "    # Buscar \\b(128|256|512)\\b\n",
    "    memorias_sin_unidades = re.search(r'\\b(128|256|512)\\b', texto)\n",
    "    if memorias_sin_unidades:\n",
    "        return memorias_sin_unidades.group(0)\n",
    "    \n",
    "    return None\n",
    "    \n",
    "def es_tienda(texto: str) -> bool:\n",
    "    if pd.isna(texto):\n",
    "        return None\n",
    "    words_to_find = ('reacondicionado', 'tienda')\n",
    "    for word in words_to_find:\n",
    "        if word in texto:\n",
    "            return True \n",
    "    return False \n",
    "\n",
    "def tiene_garantia(texto: str):\n",
    "    if pd.isna(texto):\n",
    "        return None\n",
    "    words_to_find = ('garantia', 'care', 'factura')\n",
    "    for word in words_to_find:\n",
    "        if word in texto:\n",
    "            return True \n",
    "    return False "
   ]
  },
  {
   "cell_type": "code",
   "execution_count": 7,
   "metadata": {},
   "outputs": [
    {
     "name": "stdout",
     "output_type": "stream",
     "text": [
      "id                     0\n",
      "fecha                  0\n",
      "gen                    0\n",
      "mod                    0\n",
      "memoria              416\n",
      "bateria             1163\n",
      "precio                 0\n",
      "estado                 0\n",
      "nombre                 0\n",
      "scrap_locat            0\n",
      "dist_scrap_locat       0\n",
      "reservado              0\n",
      "url                    0\n",
      "tiene_color            0\n",
      "tiene_emojis           0\n",
      "tiene_revisado         0\n",
      "comentario           198\n",
      "dtype: int64\n",
      "id                    0\n",
      "fecha                 0\n",
      "gen                   0\n",
      "mod                   0\n",
      "memoria             517\n",
      "bateria             712\n",
      "precio                0\n",
      "estado                0\n",
      "nombre                0\n",
      "scrap_locat           0\n",
      "dist_scrap_locat      0\n",
      "reservado             0\n",
      "url                   0\n",
      "tiene_color           0\n",
      "tiene_emojis          0\n",
      "tiene_revisado        0\n",
      "comentario          198\n",
      "tienda              198\n",
      "garantia            198\n",
      "dtype: int64\n"
     ]
    }
   ],
   "source": [
    "\n",
    "missing_values = df_original.isnull().sum()\n",
    "print(missing_values)\n",
    "df['bateria'] = df_original['comentario'].apply(encontrar_bateria)\n",
    "df['memoria'] = df_original['comentario'].apply(encontrar_memoria)\n",
    "df['tienda'] = df_original['comentario'].apply(es_tienda)\n",
    "df['garantia'] = df_original['comentario'].apply(tiene_garantia)\n",
    "\n",
    "missing_values = df.isnull().sum()\n",
    "print(missing_values)\n"
   ]
  },
  {
   "cell_type": "code",
   "execution_count": 8,
   "metadata": {},
   "outputs": [
    {
     "data": {
      "text/plain": [
       "count      1068\n",
       "unique        2\n",
       "top       False\n",
       "freq        882\n",
       "Name: tienda, dtype: object"
      ]
     },
     "execution_count": 8,
     "metadata": {},
     "output_type": "execute_result"
    }
   ],
   "source": [
    "df['tienda'].describe()"
   ]
  },
  {
   "cell_type": "code",
   "execution_count": 9,
   "metadata": {},
   "outputs": [],
   "source": [
    "carpeta = \"5_data_from_comments\"\n",
    "df.to_csv(carpeta + '/' + nombre_archivo + '.csv')"
   ]
  }
 ],
 "metadata": {
  "kernelspec": {
   "display_name": ".env",
   "language": "python",
   "name": "python3"
  },
  "language_info": {
   "codemirror_mode": {
    "name": "ipython",
    "version": 3
   },
   "file_extension": ".py",
   "mimetype": "text/x-python",
   "name": "python",
   "nbconvert_exporter": "python",
   "pygments_lexer": "ipython3",
   "version": "3.11.9"
  }
 },
 "nbformat": 4,
 "nbformat_minor": 2
}
