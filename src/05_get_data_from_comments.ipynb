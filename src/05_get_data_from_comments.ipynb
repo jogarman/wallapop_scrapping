{
 "cells": [
  {
   "cell_type": "markdown",
   "metadata": {},
   "source": [
    "Extrae el % de bateria del comentario y lo pega en la columna de bateria"
   ]
  },
  {
   "cell_type": "code",
   "execution_count": 1,
   "metadata": {},
   "outputs": [],
   "source": [
    "import os\n",
    "import pandas as pd\n",
    "from datetime import datetime\n",
    "from utils.feature_engineering.iphone import *"
   ]
  },
  {
   "cell_type": "code",
   "execution_count": 2,
   "metadata": {},
   "outputs": [],
   "source": [
    "elemento_a_buscar = \"iphone\"\n",
    "fecha = datetime.now().strftime(\"%Y%m%d\")\n",
    "carpeta_origen = \"../data/4_download_description\"\n",
    "carpeta_destino = \"../data/5_data_from_comments\""
   ]
  },
  {
   "cell_type": "code",
   "execution_count": 3,
   "metadata": {},
   "outputs": [],
   "source": [
    "def get_data_from_comments(n):\n",
    "    n=str(n)\n",
    "    filepath = os.path.join(carpeta_origen, f\"{elemento_a_buscar}_{fecha}_{n}.csv\")\n",
    "    # Si el archivo no existe para\n",
    "    if not os.path.exists(filepath):\n",
    "        return None\n",
    "    df_original = pd.read_csv(filepath)\n",
    "    df_original.drop('Unnamed: 0', axis=1, inplace=True)\n",
    "    #df_original.head(2)\n",
    "    df = df_original.copy()\n",
    "    missing_values = df_original.isnull().sum()\n",
    "    print('missing_values', missing_values)\n",
    "    df['bateria'] = df_original['comentario'].apply(encontrar_bateria)\n",
    "    df['memoria'] = df_original['comentario'].apply(encontrar_memoria)\n",
    "    df['tienda'] = df_original['comentario'].apply(es_tienda)\n",
    "    df['garantia'] = df_original['comentario'].apply(tiene_garantia)\n",
    "    if not os.path.exists(carpeta_destino):\n",
    "        os.makedirs(carpeta_destino)\n",
    "    df.to_csv(os.path.join(carpeta_destino, f\"{fecha}_{elemento_a_buscar}_{n}.csv\"))\n",
    "\n",
    "    missing_values = df_original.isnull().sum()\n",
    "    print('df_original', missing_values)\n",
    "    missing_values = df.isnull().sum()\n",
    "    print(\"df missing values: \", missing_values)"
   ]
  },
  {
   "cell_type": "code",
   "execution_count": 4,
   "metadata": {},
   "outputs": [
    {
     "name": "stdout",
     "output_type": "stream",
     "text": [
      "missing_values id                 0\n",
      "time_scrap         0\n",
      "gen                0\n",
      "mod                0\n",
      "memoria           30\n",
      "bateria           90\n",
      "precio             0\n",
      "estado             0\n",
      "nombre             0\n",
      "tiene_color        0\n",
      "tiene_emojis       0\n",
      "tiene_revisado     0\n",
      "municipio          0\n",
      "distancia          0\n",
      "reservado          0\n",
      "url_articulo       0\n",
      "fecha              0\n",
      "comentario         8\n",
      "dtype: int64\n",
      "df_original id                 0\n",
      "time_scrap         0\n",
      "gen                0\n",
      "mod                0\n",
      "memoria           30\n",
      "bateria           90\n",
      "precio             0\n",
      "estado             0\n",
      "nombre             0\n",
      "tiene_color        0\n",
      "tiene_emojis       0\n",
      "tiene_revisado     0\n",
      "municipio          0\n",
      "distancia          0\n",
      "reservado          0\n",
      "url_articulo       0\n",
      "fecha              0\n",
      "comentario         8\n",
      "dtype: int64\n",
      "df missing values:  id                 0\n",
      "time_scrap         0\n",
      "gen                0\n",
      "mod                0\n",
      "memoria           14\n",
      "bateria           39\n",
      "precio             0\n",
      "estado             0\n",
      "nombre             0\n",
      "tiene_color        0\n",
      "tiene_emojis       0\n",
      "tiene_revisado     0\n",
      "municipio          0\n",
      "distancia          0\n",
      "reservado          0\n",
      "url_articulo       0\n",
      "fecha              0\n",
      "comentario         8\n",
      "tienda             8\n",
      "garantia           8\n",
      "dtype: int64\n"
     ]
    }
   ],
   "source": [
    "for n in range(10):\n",
    "    get_data_from_comments(n)"
   ]
  }
 ],
 "metadata": {
  "kernelspec": {
   "display_name": "Python 3",
   "language": "python",
   "name": "python3"
  },
  "language_info": {
   "codemirror_mode": {
    "name": "ipython",
    "version": 3
   },
   "file_extension": ".py",
   "mimetype": "text/x-python",
   "name": "python",
   "nbconvert_exporter": "python",
   "pygments_lexer": "ipython3",
   "version": "3.11.9"
  }
 },
 "nbformat": 4,
 "nbformat_minor": 2
}
