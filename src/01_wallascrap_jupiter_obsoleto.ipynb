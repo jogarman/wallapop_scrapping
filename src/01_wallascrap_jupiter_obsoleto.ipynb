{
 "cells": [
  {
   "cell_type": "code",
   "execution_count": 1,
   "metadata": {},
   "outputs": [],
   "source": [
    "import time\n",
    "import pandas as pd\n",
    "import numpy as np\n",
    "from datetime import datetime\n",
    "import re\n",
    "import locale\n",
    "import pyautogui\n",
    "\n",
    "from utils import *\n",
    "\n",
    "import selenium\n",
    "from selenium import webdriver\n",
    "from selenium.webdriver.chrome.service import Service as ChromeService\n",
    "from webdriver_manager.chrome import ChromeDriverManager\n",
    "from selenium.webdriver.common.by import By\n",
    "from selenium.webdriver.support.ui import WebDriverWait\n",
    "from selenium.webdriver.support import expected_conditions as EC\n",
    "from selenium.webdriver.common.keys import Keys\n",
    "from bs4 import BeautifulSoup\n",
    "from selenium.webdriver.common.action_chains import ActionChains"
   ]
  },
  {
   "cell_type": "markdown",
   "metadata": {},
   "source": [
    "Define: ```Elemento a buscar``` ```Estado``` ```distancia``` ```n_scrolls_cada_vez```\n",
    " ```Lista a incluir``` \n",
    " ```Lista a excluir```"
   ]
  },
  {
   "cell_type": "code",
   "execution_count": 2,
   "metadata": {},
   "outputs": [],
   "source": [
    "#ejecutar con el entorno .env\n",
    "elemento_a_buscar = 'iphone 14'\n",
    "n_iphone = elemento_a_buscar.split()[1] # para otros elementos modificlar el bucle que verifica si el item es correcto\n",
    "\n",
    "#funcion para seleccionar los articulos que quiero:\n",
    "# si una la tiene o no la tiene se incluye o excluye.\n",
    "# por ejemplo si buscadas = 15 y 16\n",
    "#                excluyentes = funda cristal\n",
    "#                'funda iphone 15' se excluye\n",
    "#                'iphone'      no se incluye porque no tiene el 15 ni el 16\n",
    "cadenas_buscadas = (\n",
    "                    n_iphone,\n",
    "                    n_iphone + ',',\n",
    "                    n_iphone + '.'\n",
    "                    )  # la coma es para que python lo vea como una tupla\n",
    "cadenas_excluyentes = (\n",
    "                    \"funda\",\n",
    "                    \"fundas\",\n",
    "                    \"carcasa\",\n",
    "                    \"carcasas\",\n",
    "                    \"protector\",\n",
    "                    \"cristal\",\n",
    "                    \"3\", \"4\", \"5\", \"6\",\n",
    "                    \"4s\", \"5s\", \"6s\"\n",
    "                    \"16gb\",\n",
    "                    \"caja\",\n",
    "                    \"macbook\"\n",
    ")\n",
    "\n",
    "# 'new', 'as_good_as_new', 'good'\n",
    "#Solo uno cada vez!\n",
    "estado = 'as_good_as_new'\n",
    "# Para buscar se podrían poner juntos sin espacios con comas. 'new,as_good_as_new,good'\n",
    "# Pero para guardarlos en la tabla no se puede guardar el estado extraido. \n",
    "distancia = '60' # distancia en km\n",
    "precio_min = 250\n",
    "\n",
    "carpeta =\"../1_datos_raw\"\n",
    "n_excluidos_seguidos_max = 30\n",
    "n_scrolls_cada_vez = 15 \n",
    "if type(cadenas_buscadas) is not tuple:\n",
    "    print(\"cadenas_buscadas no es tupla\")\n",
    "if type(estado) is not str:\n",
    "    print(\"estado no es str\") "
   ]
  },
  {
   "cell_type": "code",
   "execution_count": 3,
   "metadata": {},
   "outputs": [
    {
     "ename": "KeyboardInterrupt",
     "evalue": "",
     "output_type": "error",
     "traceback": [
      "\u001b[1;31m---------------------------------------------------------------------------\u001b[0m",
      "\u001b[1;31mKeyboardInterrupt\u001b[0m                         Traceback (most recent call last)",
      "Cell \u001b[1;32mIn[3], line 2\u001b[0m\n\u001b[0;32m      1\u001b[0m \u001b[38;5;66;03m#Abre la venana\u001b[39;00m\n\u001b[1;32m----> 2\u001b[0m driver \u001b[38;5;241m=\u001b[39m webdriver\u001b[38;5;241m.\u001b[39mChrome(service\u001b[38;5;241m=\u001b[39mChromeService(\u001b[43mChromeDriverManager\u001b[49m\u001b[43m(\u001b[49m\u001b[43m)\u001b[49m\u001b[38;5;241;43m.\u001b[39;49m\u001b[43minstall\u001b[49m\u001b[43m(\u001b[49m\u001b[43m)\u001b[49m))\n\u001b[0;32m      4\u001b[0m ele_1 \u001b[38;5;241m=\u001b[39m elemento_a_buscar\u001b[38;5;241m.\u001b[39msplit()[\u001b[38;5;241m0\u001b[39m]\n\u001b[0;32m      5\u001b[0m ele_2 \u001b[38;5;241m=\u001b[39m elemento_a_buscar\u001b[38;5;241m.\u001b[39msplit()[\u001b[38;5;241m1\u001b[39m]\n",
      "File \u001b[1;32mc:\\Users\\ACER\\Desktop\\Proyectos python\\wallapop_scrapping\\.env\\Lib\\site-packages\\webdriver_manager\\chrome.py:40\u001b[0m, in \u001b[0;36mChromeDriverManager.install\u001b[1;34m(self)\u001b[0m\n\u001b[0;32m     39\u001b[0m \u001b[38;5;28;01mdef\u001b[39;00m \u001b[38;5;21minstall\u001b[39m(\u001b[38;5;28mself\u001b[39m) \u001b[38;5;241m-\u001b[39m\u001b[38;5;241m>\u001b[39m \u001b[38;5;28mstr\u001b[39m:\n\u001b[1;32m---> 40\u001b[0m     driver_path \u001b[38;5;241m=\u001b[39m \u001b[38;5;28;43mself\u001b[39;49m\u001b[38;5;241;43m.\u001b[39;49m\u001b[43m_get_driver_binary_path\u001b[49m\u001b[43m(\u001b[49m\u001b[38;5;28;43mself\u001b[39;49m\u001b[38;5;241;43m.\u001b[39;49m\u001b[43mdriver\u001b[49m\u001b[43m)\u001b[49m\n\u001b[0;32m     41\u001b[0m     os\u001b[38;5;241m.\u001b[39mchmod(driver_path, \u001b[38;5;241m0o755\u001b[39m)\n\u001b[0;32m     42\u001b[0m     \u001b[38;5;28;01mreturn\u001b[39;00m driver_path\n",
      "File \u001b[1;32mc:\\Users\\ACER\\Desktop\\Proyectos python\\wallapop_scrapping\\.env\\Lib\\site-packages\\webdriver_manager\\core\\manager.py:35\u001b[0m, in \u001b[0;36mDriverManager._get_driver_binary_path\u001b[1;34m(self, driver)\u001b[0m\n\u001b[0;32m     34\u001b[0m \u001b[38;5;28;01mdef\u001b[39;00m \u001b[38;5;21m_get_driver_binary_path\u001b[39m(\u001b[38;5;28mself\u001b[39m, driver):\n\u001b[1;32m---> 35\u001b[0m     binary_path \u001b[38;5;241m=\u001b[39m \u001b[38;5;28;43mself\u001b[39;49m\u001b[38;5;241;43m.\u001b[39;49m\u001b[43m_cache_manager\u001b[49m\u001b[38;5;241;43m.\u001b[39;49m\u001b[43mfind_driver\u001b[49m\u001b[43m(\u001b[49m\u001b[43mdriver\u001b[49m\u001b[43m)\u001b[49m\n\u001b[0;32m     36\u001b[0m     \u001b[38;5;28;01mif\u001b[39;00m binary_path:\n\u001b[0;32m     37\u001b[0m         \u001b[38;5;28;01mreturn\u001b[39;00m binary_path\n",
      "File \u001b[1;32mc:\\Users\\ACER\\Desktop\\Proyectos python\\wallapop_scrapping\\.env\\Lib\\site-packages\\webdriver_manager\\core\\driver_cache.py:103\u001b[0m, in \u001b[0;36mDriverCacheManager.find_driver\u001b[1;34m(self, driver)\u001b[0m\n\u001b[0;32m    101\u001b[0m driver_name \u001b[38;5;241m=\u001b[39m driver\u001b[38;5;241m.\u001b[39mget_name()\n\u001b[0;32m    102\u001b[0m browser_type \u001b[38;5;241m=\u001b[39m driver\u001b[38;5;241m.\u001b[39mget_browser_type()\n\u001b[1;32m--> 103\u001b[0m browser_version \u001b[38;5;241m=\u001b[39m \u001b[38;5;28;43mself\u001b[39;49m\u001b[38;5;241;43m.\u001b[39;49m\u001b[43m_os_system_manager\u001b[49m\u001b[38;5;241;43m.\u001b[39;49m\u001b[43mget_browser_version_from_os\u001b[49m\u001b[43m(\u001b[49m\u001b[43mbrowser_type\u001b[49m\u001b[43m)\u001b[49m\n\u001b[0;32m    104\u001b[0m \u001b[38;5;28;01mif\u001b[39;00m \u001b[38;5;129;01mnot\u001b[39;00m browser_version:\n\u001b[0;32m    105\u001b[0m     \u001b[38;5;28;01mreturn\u001b[39;00m \u001b[38;5;28;01mNone\u001b[39;00m\n",
      "File \u001b[1;32mc:\\Users\\ACER\\Desktop\\Proyectos python\\wallapop_scrapping\\.env\\Lib\\site-packages\\webdriver_manager\\core\\os_manager.py:159\u001b[0m, in \u001b[0;36mOperationSystemManager.get_browser_version_from_os\u001b[1;34m(self, browser_type)\u001b[0m\n\u001b[0;32m    157\u001b[0m     cmd_mapping \u001b[38;5;241m=\u001b[39m cmd_mapping[browser_type][OperationSystemManager\u001b[38;5;241m.\u001b[39mget_os_name()]\n\u001b[0;32m    158\u001b[0m     pattern \u001b[38;5;241m=\u001b[39m PATTERN[browser_type]\n\u001b[1;32m--> 159\u001b[0m     version \u001b[38;5;241m=\u001b[39m \u001b[43mread_version_from_cmd\u001b[49m\u001b[43m(\u001b[49m\u001b[43mcmd_mapping\u001b[49m\u001b[43m,\u001b[49m\u001b[43m \u001b[49m\u001b[43mpattern\u001b[49m\u001b[43m)\u001b[49m\n\u001b[0;32m    160\u001b[0m     \u001b[38;5;28;01mreturn\u001b[39;00m version\n\u001b[0;32m    161\u001b[0m \u001b[38;5;28;01mexcept\u001b[39;00m \u001b[38;5;167;01mException\u001b[39;00m:\n",
      "File \u001b[1;32mc:\\Users\\ACER\\Desktop\\Proyectos python\\wallapop_scrapping\\.env\\Lib\\site-packages\\webdriver_manager\\core\\utils.py:46\u001b[0m, in \u001b[0;36mread_version_from_cmd\u001b[1;34m(cmd, pattern)\u001b[0m\n\u001b[0;32m     38\u001b[0m \u001b[38;5;28;01mdef\u001b[39;00m \u001b[38;5;21mread_version_from_cmd\u001b[39m(cmd, pattern):\n\u001b[0;32m     39\u001b[0m     \u001b[38;5;28;01mwith\u001b[39;00m subprocess\u001b[38;5;241m.\u001b[39mPopen(\n\u001b[0;32m     40\u001b[0m             cmd,\n\u001b[0;32m     41\u001b[0m             stdout\u001b[38;5;241m=\u001b[39msubprocess\u001b[38;5;241m.\u001b[39mPIPE,\n\u001b[1;32m   (...)\u001b[0m\n\u001b[0;32m     44\u001b[0m             shell\u001b[38;5;241m=\u001b[39m\u001b[38;5;28;01mTrue\u001b[39;00m,\n\u001b[0;32m     45\u001b[0m     ) \u001b[38;5;28;01mas\u001b[39;00m stream:\n\u001b[1;32m---> 46\u001b[0m         stdout \u001b[38;5;241m=\u001b[39m \u001b[43mstream\u001b[49m\u001b[38;5;241;43m.\u001b[39;49m\u001b[43mcommunicate\u001b[49m\u001b[43m(\u001b[49m\u001b[43m)\u001b[49m[\u001b[38;5;241m0\u001b[39m]\u001b[38;5;241m.\u001b[39mdecode()\n\u001b[0;32m     47\u001b[0m         version \u001b[38;5;241m=\u001b[39m re\u001b[38;5;241m.\u001b[39msearch(pattern, stdout)\n\u001b[0;32m     48\u001b[0m         version \u001b[38;5;241m=\u001b[39m version\u001b[38;5;241m.\u001b[39mgroup(\u001b[38;5;241m0\u001b[39m) \u001b[38;5;28;01mif\u001b[39;00m version \u001b[38;5;28;01melse\u001b[39;00m \u001b[38;5;28;01mNone\u001b[39;00m\n",
      "File \u001b[1;32mC:\\Program Files\\WindowsApps\\PythonSoftwareFoundation.Python.3.11_3.11.2544.0_x64__qbz5n2kfra8p0\\Lib\\subprocess.py:1196\u001b[0m, in \u001b[0;36mPopen.communicate\u001b[1;34m(self, input, timeout)\u001b[0m\n\u001b[0;32m   1194\u001b[0m     \u001b[38;5;28mself\u001b[39m\u001b[38;5;241m.\u001b[39m_stdin_write(\u001b[38;5;28minput\u001b[39m)\n\u001b[0;32m   1195\u001b[0m \u001b[38;5;28;01melif\u001b[39;00m \u001b[38;5;28mself\u001b[39m\u001b[38;5;241m.\u001b[39mstdout:\n\u001b[1;32m-> 1196\u001b[0m     stdout \u001b[38;5;241m=\u001b[39m \u001b[38;5;28mself\u001b[39m\u001b[38;5;241m.\u001b[39mstdout\u001b[38;5;241m.\u001b[39mread()\n\u001b[0;32m   1197\u001b[0m     \u001b[38;5;28mself\u001b[39m\u001b[38;5;241m.\u001b[39mstdout\u001b[38;5;241m.\u001b[39mclose()\n\u001b[0;32m   1198\u001b[0m \u001b[38;5;28;01melif\u001b[39;00m \u001b[38;5;28mself\u001b[39m\u001b[38;5;241m.\u001b[39mstderr:\n",
      "\u001b[1;31mKeyboardInterrupt\u001b[0m: "
     ]
    }
   ],
   "source": [
    "#Abre la venana\n",
    "driver = webdriver.Chrome(service=ChromeService(ChromeDriverManager().install()))\n",
    "\n",
    "ele_1 = elemento_a_buscar.split()[0]\n",
    "ele_2 = elemento_a_buscar.split()[1]\n",
    "#driver.get('https://es.wallapop.com');\n",
    "# para Madrid no cambiar las coordenadas\n",
    "url = 'https://es.wallapop.com/app/search?filters_source=quick_filters&keywords=' + ele_1 + '%20' + ele_2 + '&longitude=-3.69196&latitude=40.41956&distance='+ str(distancia) + '000&condition=' + str(estado)\n",
    "driver.get(url)\n",
    "print(url)\n",
    "time.sleep(1)\n",
    "driver.maximize_window()  \n",
    "driver.switch_to.window(driver.current_window_handle)\n",
    "driver.implicitly_wait(1)"
   ]
  },
  {
   "cell_type": "code",
   "execution_count": 33,
   "metadata": {},
   "outputs": [],
   "source": [
    "WebDriverWait(driver, 10).until(\n",
    "    EC.element_to_be_clickable((By.ID, \"onetrust-reject-all-handler\"))\n",
    "    ).click()"
   ]
  },
  {
   "cell_type": "code",
   "execution_count": 34,
   "metadata": {},
   "outputs": [
    {
     "data": {
      "text/plain": [
       "'time.sleep(8)\\n# clico 3 veces fuera del cuadrado para saltar el tutorial\\nx_coord = 1600  # Coordenada X deseada\\ny_coord = 600  # Coordenada Y deseada\\npyautogui.click(x=x_coord, y=y_coord)\\ntime.sleep(2)\\nx_coord = 1600  # Coordenada X deseada\\ny_coord = 600  # Coordenada Y deseada\\npyautogui.click(x=x_coord, y=y_coord)\\ntime.sleep(2)\\nx_coord = 1600  # Coordenada X deseada\\ny_coord = 600  # Coordenada Y deseada\\npyautogui.click(x=x_coord, y=y_coord)\\ntime.sleep(4)'"
      ]
     },
     "execution_count": 34,
     "metadata": {},
     "output_type": "execute_result"
    }
   ],
   "source": [
    "\"\"\"time.sleep(8)\n",
    "# clico 3 veces fuera del cuadrado para saltar el tutorial\n",
    "x_coord = 1600  # Coordenada X deseada\n",
    "y_coord = 600  # Coordenada Y deseada\n",
    "pyautogui.click(x=x_coord, y=y_coord)\n",
    "time.sleep(2)\n",
    "x_coord = 1600  # Coordenada X deseada\n",
    "y_coord = 600  # Coordenada Y deseada\n",
    "pyautogui.click(x=x_coord, y=y_coord)\n",
    "time.sleep(2)\n",
    "x_coord = 1600  # Coordenada X deseada\n",
    "y_coord = 600  # Coordenada Y deseada\n",
    "pyautogui.click(x=x_coord, y=y_coord)\n",
    "time.sleep(4)\"\"\"\n"
   ]
  },
  {
   "cell_type": "code",
   "execution_count": 35,
   "metadata": {},
   "outputs": [],
   "source": [
    "# Scroll para llegar al boton para cargar mas\n",
    "n = 0\n",
    "while n < 5:\n",
    "    driver.execute_script(\"window.scrollTo(0, document.body.scrollHeight);\")\n",
    "    time.sleep(1)\n",
    "    n = n + 1"
   ]
  },
  {
   "cell_type": "code",
   "execution_count": 36,
   "metadata": {},
   "outputs": [],
   "source": [
    "# Clicamos para ver más\n",
    "boton_ver_mas = WebDriverWait(driver, 6).until(\n",
    "    EC.element_to_be_clickable((By.CSS_SELECTOR, \"#btn-load-more\")))\n",
    "boton_ver_mas.click()\n",
    "time.sleep(2)\n",
    "\n",
    "# button = WebDriverWait(driver, 6).until(\n",
    "#     EC.element_to_be_clickable((By.XPATH, \"//walla-button[contains(@class, 'w-100')]\"))"
   ]
  },
  {
   "cell_type": "code",
   "execution_count": 37,
   "metadata": {},
   "outputs": [],
   "source": [
    "# Creación de la tabla con las columnas que buscamos\n",
    "try:\n",
    "    del df\n",
    "except NameError:\n",
    "    pass\n",
    "columnas = ['id', 'nombre', 'precio', 'estado', 'reservado', 'url']\n",
    "df = pd.DataFrame(columns=columnas)"
   ]
  },
  {
   "cell_type": "code",
   "execution_count": 38,
   "metadata": {},
   "outputs": [],
   "source": [
    "time.sleep(2)\n",
    "x_coord = 1600\n",
    "y_coord = 780 \n",
    "pyautogui.click(x=x_coord, y=y_coord)"
   ]
  },
  {
   "cell_type": "markdown",
   "metadata": {},
   "source": [
    "# Scrolling"
   ]
  },
  {
   "cell_type": "code",
   "execution_count": 39,
   "metadata": {},
   "outputs": [],
   "source": [
    "# Clicamos para ver más y hacemos scroll down n veces\n",
    "n = 0\n",
    "while n < n_scrolls_cada_vez:\n",
    "    driver.execute_script(\"window.scrollTo(0, document.body.scrollHeight);\")\n",
    "    time.sleep(2)\n",
    "    n = n + 1"
   ]
  },
  {
   "cell_type": "code",
   "execution_count": 40,
   "metadata": {},
   "outputs": [],
   "source": [
    "def item_reservado(elem):\n",
    "    # Asumiendo que la clase 'reservado' en algún elemento interno indica que el artículo está reservado\n",
    "    try:\n",
    "        elemento_reservado = elem.find_element(By.CSS_SELECTOR, \".clase_indicativa_de_reservado\")\n",
    "        return True\n",
    "    except:\n",
    "        return False"
   ]
  },
  {
   "cell_type": "code",
   "execution_count": 41,
   "metadata": {},
   "outputs": [],
   "source": [
    "def es_precio_ok(precio: str, precio_min: int):\n",
    "    precio = precio.replace(\".\", \"TEMP\").replace(\",\", \".\").replace(\"TEMP\", \",\")\n",
    "    precio = float(precio)\n",
    "    if precio >= precio_min: \n",
    "        return 1\n",
    "    else:\n",
    "        return 0"
   ]
  },
  {
   "cell_type": "code",
   "execution_count": 42,
   "metadata": {},
   "outputs": [
    {
     "name": "stdout",
     "output_type": "stream",
     "text": [
      "0/617 ## excluido   ##  iphone 14promax？\n"
     ]
    },
    {
     "ename": "TypeError",
     "evalue": "'>=' not supported between instances of 'float' and 'str'",
     "output_type": "error",
     "traceback": [
      "\u001b[1;31m---------------------------------------------------------------------------\u001b[0m",
      "\u001b[1;31mTypeError\u001b[0m                                 Traceback (most recent call last)",
      "Cell \u001b[1;32mIn[42], line 17\u001b[0m\n\u001b[0;32m     15\u001b[0m precio \u001b[38;5;241m=\u001b[39m elem\u001b[38;5;241m.\u001b[39mfind_element(By\u001b[38;5;241m.\u001b[39mCSS_SELECTOR, \u001b[38;5;124m\"\u001b[39m\u001b[38;5;124m.ItemCard__price\u001b[39m\u001b[38;5;124m\"\u001b[39m)\u001b[38;5;241m.\u001b[39mtext\u001b[38;5;241m.\u001b[39mstrip()\n\u001b[0;32m     16\u001b[0m precio \u001b[38;5;241m=\u001b[39m precio\u001b[38;5;241m.\u001b[39msplit(\u001b[38;5;124m'\u001b[39m\u001b[38;5;124m \u001b[39m\u001b[38;5;124m'\u001b[39m)[\u001b[38;5;241m0\u001b[39m]\n\u001b[1;32m---> 17\u001b[0m \u001b[38;5;28;01mif\u001b[39;00m \u001b[43mes_precio_ok\u001b[49m\u001b[43m(\u001b[49m\u001b[43mprecio\u001b[49m\u001b[43m,\u001b[49m\u001b[43m \u001b[49m\u001b[43mprecio_min\u001b[49m\u001b[43m)\u001b[49m:\n\u001b[0;32m     18\u001b[0m     reservado \u001b[38;5;241m=\u001b[39m item_reservado(elem)  \n\u001b[0;32m     19\u001b[0m     \u001b[38;5;66;03m# Guarda en la tabla\u001b[39;00m\n",
      "Cell \u001b[1;32mIn[41], line 4\u001b[0m, in \u001b[0;36mes_precio_ok\u001b[1;34m(precio, precio_min)\u001b[0m\n\u001b[0;32m      2\u001b[0m precio \u001b[38;5;241m=\u001b[39m precio\u001b[38;5;241m.\u001b[39mreplace(\u001b[38;5;124m\"\u001b[39m\u001b[38;5;124m.\u001b[39m\u001b[38;5;124m\"\u001b[39m, \u001b[38;5;124m\"\u001b[39m\u001b[38;5;124mTEMP\u001b[39m\u001b[38;5;124m\"\u001b[39m)\u001b[38;5;241m.\u001b[39mreplace(\u001b[38;5;124m\"\u001b[39m\u001b[38;5;124m,\u001b[39m\u001b[38;5;124m\"\u001b[39m, \u001b[38;5;124m\"\u001b[39m\u001b[38;5;124m.\u001b[39m\u001b[38;5;124m\"\u001b[39m)\u001b[38;5;241m.\u001b[39mreplace(\u001b[38;5;124m\"\u001b[39m\u001b[38;5;124mTEMP\u001b[39m\u001b[38;5;124m\"\u001b[39m, \u001b[38;5;124m\"\u001b[39m\u001b[38;5;124m,\u001b[39m\u001b[38;5;124m\"\u001b[39m)\n\u001b[0;32m      3\u001b[0m precio \u001b[38;5;241m=\u001b[39m \u001b[38;5;28mfloat\u001b[39m(precio)\n\u001b[1;32m----> 4\u001b[0m \u001b[38;5;28;01mif\u001b[39;00m \u001b[43mprecio\u001b[49m\u001b[43m \u001b[49m\u001b[38;5;241;43m>\u001b[39;49m\u001b[38;5;241;43m=\u001b[39;49m\u001b[43m \u001b[49m\u001b[43mprecio_min\u001b[49m: \n\u001b[0;32m      5\u001b[0m     \u001b[38;5;28;01mreturn\u001b[39;00m \u001b[38;5;241m1\u001b[39m\n\u001b[0;32m      6\u001b[0m \u001b[38;5;28;01melse\u001b[39;00m:\n",
      "\u001b[1;31mTypeError\u001b[0m: '>=' not supported between instances of 'float' and 'str'"
     ]
    }
   ],
   "source": [
    "# Extraigo los datos y los añado en la tabla. \n",
    "# En el .py no funciona sin reconfigurar el encoding\n",
    "#import sys\n",
    "#sys.stdout.reconfigure(encoding='utf-8')\n",
    "elementos = driver.find_elements(By.CSS_SELECTOR, \"a.ItemCardList__item\")\n",
    "total_elementos =  len(elementos)\n",
    "n_excluidos_seguidos = 0\n",
    "for index, elem in enumerate(elementos):\n",
    "    if n_excluidos_seguidos >= n_excluidos_seguidos_max:\n",
    "        break\n",
    "    pos = (str(index) + \"/\" + str(total_elementos))\n",
    "    url_articulo = elem.get_attribute('href')\n",
    "    id_articulo = url_articulo.split('-')[-1]\n",
    "    if not ya_existe_articulo(id_articulo, df):\n",
    "        nombre = elem.get_attribute('title')\n",
    "        nombre = nombre.lower()\n",
    "        if is_iphone_xx(nombre, n_iphone, cadenas_buscadas, cadenas_excluyentes):\n",
    "            precio = elem.find_element(By.CSS_SELECTOR, \".ItemCard__price\").text.strip()\n",
    "            precio = precio.split(' ')[0]\n",
    "            if es_precio_ok(precio, precio_min):\n",
    "                reservado = item_reservado(elem)  \n",
    "                # Guarda en la tabla\n",
    "                print(pos, \"++ guardado   ++ \" + nombre)\n",
    "                df.loc[index] = [id_articulo, nombre, precio, estado, reservado, url_articulo]\n",
    "                n_excluidos_seguidos = 0\n",
    "            else:\n",
    "                print(pos, \"--precio bajo -- \", precio, nombre)\n",
    "        else:\n",
    "            n_excluidos_seguidos = n_excluidos_seguidos + 1\n",
    "            print(pos, \"## excluido   ## \", nombre)\n",
    "    else:\n",
    "        print(pos, \"* ya existe:  ** \", nombre, id_articulo)\n",
    "        n_excluidos_seguidos = 0\n",
    "        \n",
    "    \n",
    "df = df.reset_index(drop=True)\n",
    "print(df)"
   ]
  },
  {
   "cell_type": "code",
   "execution_count": null,
   "metadata": {},
   "outputs": [],
   "source": [
    "pd.set_option('display.max_columns', None)\n",
    "pd.set_option('display.max_colwidth', None)\n",
    "df"
   ]
  },
  {
   "cell_type": "code",
   "execution_count": null,
   "metadata": {},
   "outputs": [],
   "source": [
    "hoy_formateada = datetime.now().strftime(\"%Y%m%d\")\n",
    "print(hoy_formateada)\n",
    "print(elemento_a_buscar)\n",
    "print(estado)\n",
    "nombre_archivo_pkl = hoy_formateada + '_' + elemento_a_buscar + '_' + estado\n",
    "df.to_csv(carpeta + '/' + nombre_archivo_pkl + '.csv')"
   ]
  },
  {
   "cell_type": "code",
   "execution_count": null,
   "metadata": {},
   "outputs": [],
   "source": [
    "try:\n",
    "    df = pd.read_csv(carpeta + '/' + nombre_archivo_pkl + '.csv')\n",
    "    print(\"csv guardado\")\n",
    "    driver.quit()\n",
    "except:\n",
    "    print(\"Error leyendo archivo! puede que no se haya guardado bien\")\n"
   ]
  }
 ],
 "metadata": {
  "kernelspec": {
   "display_name": ".env",
   "language": "python",
   "name": "python3"
  },
  "language_info": {
   "codemirror_mode": {
    "name": "ipython",
    "version": 3
   },
   "file_extension": ".py",
   "mimetype": "text/x-python",
   "name": "python",
   "nbconvert_exporter": "python",
   "pygments_lexer": "ipython3",
   "version": "3.11.9"
  },
  "orig_nbformat": 4
 },
 "nbformat": 4,
 "nbformat_minor": 2
}
