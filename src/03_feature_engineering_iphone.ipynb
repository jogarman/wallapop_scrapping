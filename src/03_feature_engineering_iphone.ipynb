{
 "cells": [
  {
   "cell_type": "markdown",
   "metadata": {},
   "source": [
    "## Featuring engineering\n",
    "creo variables como, si tiene color, si tiene emojis, si pone \"vendo\", si pone \"revisado\""
   ]
  },
  {
   "cell_type": "code",
   "execution_count": 5,
   "metadata": {},
   "outputs": [],
   "source": [
    "import os\n",
    "import pandas as pd\n",
    "from datetime import datetime\n",
    "\n",
    "from utils.feature_engineering.iphone import *"
   ]
  },
  {
   "cell_type": "code",
   "execution_count": 6,
   "metadata": {},
   "outputs": [],
   "source": [
    "fecha = datetime.now().strftime(\"%Y%m%d\")\n",
    "#fecha = \"20250117\"\n",
    "producto = 'iphone'\n",
    "carpeta_origen = \"../data/2_datos_por_escaneo\"\n",
    "carpeta_destino = \"../data/3_feature_engineering\""
   ]
  },
  {
   "cell_type": "code",
   "execution_count": 7,
   "metadata": {},
   "outputs": [],
   "source": [
    "def df_transform(n):\n",
    "    n=str(n)\n",
    "    filepath = os.path.join(carpeta_origen, f\"{producto}_{fecha}_{n}.csv\")\n",
    "    # Si el archivo no existe para\n",
    "    if not os.path.exists(filepath):\n",
    "        return \n",
    "    df = pd.read_csv(carpeta_origen + '/' + \"iphone_\" + fecha + '_' + n +'.csv', index_col=0)\n",
    "    # Asigno columnas MODELO, MEMORIA, COLOR, BATERIA....\n",
    "    # Creo una columna en la que pongo que iphone es (14, 15 o 16..) y que tipo. \n",
    "    # Gen\n",
    "    # Model\n",
    "    # for index in range(len(df)): # no se para qué estaba etso\n",
    "    #     df['gen'] = 'vacio'\n",
    "    #     df['modelo'] = 'modelo'\n",
    "    # Aplicar las funciones al DataFrame\n",
    "    df['gen'] = df['nombre'].apply(asignar_gen)\n",
    "    df['mod'] = df['nombre'].apply(asignar_modelo)\n",
    "    df['memoria'] = df['nombre'].apply(asignar_memoria)\n",
    "    df['bateria'] = df['nombre'].apply(asignar_bateria)\n",
    "    df['tiene_color'] = df['nombre'].apply(tiene_color)\n",
    "    df['tiene_emojis'] = df['nombre'].apply(tiene_emojis)\n",
    "    df['tiene_revisado'] = df['nombre'].apply(tiene_revisado)\n",
    "    orden_columnas = [\n",
    "        'id', 'time_scrap', 'gen', 'mod', 'memoria', 'bateria','precio', 'estado',\n",
    "        'nombre','tiene_color', 'tiene_emojis', 'tiene_revisado', 'municipio' ,\n",
    "        'distancia', 'reservado', 'url_articulo',  'fecha'\n",
    "        ]\n",
    "    df = df[orden_columnas]\n",
    "    df = df.reset_index(drop=True) # sin indice\n",
    "    if not os.path.exists(carpeta_destino):\n",
    "        os.makedirs(carpeta_destino)\n",
    "    nombre_archivo = f\"{carpeta_destino}/iphone_{fecha}_{n}.csv\"\n",
    "    df.to_csv(nombre_archivo, index=False)"
   ]
  },
  {
   "cell_type": "code",
   "execution_count": 8,
   "metadata": {},
   "outputs": [],
   "source": [
    "for n in range(10):\n",
    "    df_transform(n)"
   ]
  }
 ],
 "metadata": {
  "kernelspec": {
   "display_name": "Python 3",
   "language": "python",
   "name": "python3"
  },
  "language_info": {
   "codemirror_mode": {
    "name": "ipython",
    "version": 3
   },
   "file_extension": ".py",
   "mimetype": "text/x-python",
   "name": "python",
   "nbconvert_exporter": "python",
   "pygments_lexer": "ipython3",
   "version": "3.11.9"
  }
 },
 "nbformat": 4,
 "nbformat_minor": 2
}
