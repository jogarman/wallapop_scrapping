{
 "cells": [
  {
   "cell_type": "markdown",
   "metadata": {},
   "source": [
    "## Junta tablas de gopro"
   ]
  },
  {
   "cell_type": "code",
   "execution_count": 1,
   "metadata": {},
   "outputs": [],
   "source": [
    "import os\n",
    "import pandas as pd\n",
    "from datetime import datetime\n",
    "from utils.get_scan_number import *"
   ]
  },
  {
   "cell_type": "code",
   "execution_count": 2,
   "metadata": {},
   "outputs": [],
   "source": [
    "# SELECCIONAR QUÉ PRODUCTO QUEREMOS AGRUPAR # solo cambia este chunk\n",
    "producto = \"gopro\"\n",
    "fecha = datetime.now().strftime(\"%Y%m%d\")\n",
    "#fecha = '20250117'  # Fecha en formato yyyymmdd\n",
    "carpeta_origen = '../data/1_datos_raw'\n",
    "carpeta_destino = \"../data/2_datos_por_escaneo\""
   ]
  },
  {
   "cell_type": "code",
   "execution_count": 3,
   "metadata": {},
   "outputs": [
    {
     "name": "stdout",
     "output_type": "stream",
     "text": [
      "../data/2_datos_por_escaneo/gopro_20250224_1.csv\n",
      "../data/2_datos_por_escaneo/gopro_20250224_2.csv\n"
     ]
    }
   ],
   "source": [
    "def read_and_join_csvs_by_product_and_date(fecha, producto, n, folder_path='../data/1_datos_raw'):\n",
    "    \"\"\"\n",
    "    Función que toma una fecha en formato 'yyyymmdd', el nombre del producto, n \n",
    "    (el número de escaneo) y hace un join. \n",
    "    Añade una columna con la fecha.\n",
    "    \n",
    "    Args:\n",
    "    - fecha (str): Fecha en formato 'yyyymmdd'.\n",
    "    - producto (str): Nombre del producto a buscar.\n",
    "    - n (int): Número de escaneo.\n",
    "    - folder_path (str): Directorio donde se encuentran los archivos CSV. Por defecto, es el directorio '../1_datos_raw'.\n",
    "\n",
    "    Returns:\n",
    "    - pd.DataFrame: df\n",
    "    \"\"\"\n",
    "    n = str(n)\n",
    "    # Listar todos los archivos en la carpeta\n",
    "    files = os.listdir(folder_path)\n",
    "    # Filtrar los archivos que coinciden con la fecha, producto y número de escaneo\n",
    "    csv_files = []\n",
    "    for f in files:\n",
    "        # Convertir el nombre del archivo a minúsculas para evitar problemas de mayúsculas/minúsculas\n",
    "        lower_f = f.lower()\n",
    "        if lower_f.startswith(fecha) and lower_f.endswith('.csv'):\n",
    "            parts = lower_f.split('_')\n",
    "            if len(parts) > 3:\n",
    "                file_n = parts[1]\n",
    "                file_product = parts[2] + \" \" + parts[3]  # Asegura que el producto pueda tener espacios\n",
    "                # Comprobar que el producto y número de escaneo coincidan\n",
    "                if producto.lower() in file_product and n == file_n:\n",
    "                    csv_files.append(f)\n",
    "    # Verificar que haya más de un archivo para realizar el join\n",
    "    if len(csv_files) > 1:\n",
    "        # Leer los archivos con la misma fecha, producto y número de escaneo y añadir la columna \"fecha\"\n",
    "        dfs = []\n",
    "        for f in csv_files:\n",
    "            df = pd.read_csv(os.path.join(folder_path, f))\n",
    "            df['fecha'] = fecha  # Añadir la columna con la fecha\n",
    "            dfs.append(df)\n",
    "        merged_df = dfs[0]\n",
    "        for df in dfs[1:]:\n",
    "            merged_df = merged_df.merge(df, how='outer')  # Outer join para añadir registros no coincidentes\n",
    "        del merged_df['Unnamed: 0']\n",
    "        return merged_df\n",
    "    elif len(csv_files) == 1:\n",
    "        df = pd.read_csv(os.path.join(folder_path, csv_files[0]))\n",
    "        df['fecha'] = fecha\n",
    "        del df['Unnamed: 0']\n",
    "        return df\n",
    "    else: \n",
    "        return None\n",
    "# bucle para recorrer todos los escaneos\n",
    "n = 0\n",
    "for n in range(0, 9):\n",
    "    df = read_and_join_csvs_by_product_and_date(fecha, producto, n) # join\n",
    "    if df is not None:\n",
    "        if not os.path.exists(carpeta_destino):\n",
    "            os.makedirs(carpeta_destino)\n",
    "        nombre_archivo_csv = carpeta_destino + '/' + producto + '_' + fecha + '_' \\\n",
    "            + str(n) + '.csv'\n",
    "        df.to_csv(nombre_archivo_csv)\n",
    "        print(nombre_archivo_csv)"
   ]
  }
 ],
 "metadata": {
  "kernelspec": {
   "display_name": "Python 3",
   "language": "python",
   "name": "python3"
  },
  "language_info": {
   "codemirror_mode": {
    "name": "ipython",
    "version": 3
   },
   "file_extension": ".py",
   "mimetype": "text/x-python",
   "name": "python",
   "nbconvert_exporter": "python",
   "pygments_lexer": "ipython3",
   "version": "3.11.9"
  }
 },
 "nbformat": 4,
 "nbformat_minor": 2
}
