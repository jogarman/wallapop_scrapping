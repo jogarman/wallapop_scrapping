{
 "cells": [
  {
   "cell_type": "code",
   "execution_count": null,
   "metadata": {},
   "outputs": [],
   "source": []
  },
  {
   "cell_type": "markdown",
   "metadata": {},
   "source": [
    "Extrae el % de bateria del comentario y lo pega en la columna de bateria"
   ]
  },
  {
   "cell_type": "code",
   "execution_count": 27,
   "metadata": {},
   "outputs": [],
   "source": [
    "import pandas as pd\n",
    "import re"
   ]
  },
  {
   "cell_type": "code",
   "execution_count": 28,
   "metadata": {},
   "outputs": [],
   "source": [
    "elemento_a_buscar = \"iphone 15\" # para guardar el archivo\n",
    "iphone = 15\n",
    "estado = 'as_good_as_new'\n",
    "carpeta = \"4_download_description\"\n",
    "fecha = \"20241114\""
   ]
  },
  {
   "cell_type": "code",
   "execution_count": 29,
   "metadata": {},
   "outputs": [
    {
     "data": {
      "text/html": [
       "<div>\n",
       "<style scoped>\n",
       "    .dataframe tbody tr th:only-of-type {\n",
       "        vertical-align: middle;\n",
       "    }\n",
       "\n",
       "    .dataframe tbody tr th {\n",
       "        vertical-align: top;\n",
       "    }\n",
       "\n",
       "    .dataframe thead th {\n",
       "        text-align: right;\n",
       "    }\n",
       "</style>\n",
       "<table border=\"1\" class=\"dataframe\">\n",
       "  <thead>\n",
       "    <tr style=\"text-align: right;\">\n",
       "      <th></th>\n",
       "      <th>id</th>\n",
       "      <th>fecha</th>\n",
       "      <th>gen</th>\n",
       "      <th>mod</th>\n",
       "      <th>memoria</th>\n",
       "      <th>bateria</th>\n",
       "      <th>precio</th>\n",
       "      <th>estado</th>\n",
       "      <th>nombre</th>\n",
       "      <th>reservado</th>\n",
       "      <th>url</th>\n",
       "      <th>tiene_color</th>\n",
       "      <th>tiene_emojis</th>\n",
       "      <th>tiene_revisado</th>\n",
       "      <th>comentario</th>\n",
       "    </tr>\n",
       "  </thead>\n",
       "  <tbody>\n",
       "    <tr>\n",
       "      <th>0</th>\n",
       "      <td>1068541305</td>\n",
       "      <td>20241114</td>\n",
       "      <td>16</td>\n",
       "      <td>basic</td>\n",
       "      <td>128</td>\n",
       "      <td>NaN</td>\n",
       "      <td>800,00</td>\n",
       "      <td>new</td>\n",
       "      <td>iphone 16 128gb</td>\n",
       "      <td>False</td>\n",
       "      <td>https://es.wallapop.com/item/iphone-16-128gb-1...</td>\n",
       "      <td>False</td>\n",
       "      <td>False</td>\n",
       "      <td>False</td>\n",
       "      <td>NaN</td>\n",
       "    </tr>\n",
       "    <tr>\n",
       "      <th>1</th>\n",
       "      <td>1069277594</td>\n",
       "      <td>20241114</td>\n",
       "      <td>14</td>\n",
       "      <td>pro</td>\n",
       "      <td>NaN</td>\n",
       "      <td>NaN</td>\n",
       "      <td>700,00</td>\n",
       "      <td>new</td>\n",
       "      <td>iphone 14 pro morado</td>\n",
       "      <td>False</td>\n",
       "      <td>https://es.wallapop.com/item/iphone-14-pro-mor...</td>\n",
       "      <td>True</td>\n",
       "      <td>False</td>\n",
       "      <td>False</td>\n",
       "      <td>NaN</td>\n",
       "    </tr>\n",
       "    <tr>\n",
       "      <th>2</th>\n",
       "      <td>1069385453</td>\n",
       "      <td>20241114</td>\n",
       "      <td>16</td>\n",
       "      <td>basic</td>\n",
       "      <td>NaN</td>\n",
       "      <td>NaN</td>\n",
       "      <td>850,00</td>\n",
       "      <td>as_good_as_new</td>\n",
       "      <td>iphone 16</td>\n",
       "      <td>False</td>\n",
       "      <td>https://es.wallapop.com/item/iphone-16-1069385453</td>\n",
       "      <td>False</td>\n",
       "      <td>False</td>\n",
       "      <td>False</td>\n",
       "      <td>NaN</td>\n",
       "    </tr>\n",
       "    <tr>\n",
       "      <th>3</th>\n",
       "      <td>1069408278</td>\n",
       "      <td>20241114</td>\n",
       "      <td>14</td>\n",
       "      <td>pro</td>\n",
       "      <td>NaN</td>\n",
       "      <td>NaN</td>\n",
       "      <td>800,00</td>\n",
       "      <td>good</td>\n",
       "      <td>iphone 14 pro</td>\n",
       "      <td>False</td>\n",
       "      <td>https://es.wallapop.com/item/iphone-14-pro-106...</td>\n",
       "      <td>False</td>\n",
       "      <td>False</td>\n",
       "      <td>False</td>\n",
       "      <td>NaN</td>\n",
       "    </tr>\n",
       "    <tr>\n",
       "      <th>4</th>\n",
       "      <td>1069426273</td>\n",
       "      <td>20241114</td>\n",
       "      <td>16</td>\n",
       "      <td>pro max</td>\n",
       "      <td>NaN</td>\n",
       "      <td>NaN</td>\n",
       "      <td>1020,00</td>\n",
       "      <td>good</td>\n",
       "      <td>iphone 16 pro max</td>\n",
       "      <td>False</td>\n",
       "      <td>https://es.wallapop.com/item/iphone-16-pro-max...</td>\n",
       "      <td>False</td>\n",
       "      <td>False</td>\n",
       "      <td>False</td>\n",
       "      <td>NaN</td>\n",
       "    </tr>\n",
       "  </tbody>\n",
       "</table>\n",
       "</div>"
      ],
      "text/plain": [
       "           id     fecha  gen      mod memoria  bateria   precio  \\\n",
       "0  1068541305  20241114   16    basic     128      NaN   800,00   \n",
       "1  1069277594  20241114   14      pro     NaN      NaN   700,00   \n",
       "2  1069385453  20241114   16    basic     NaN      NaN   850,00   \n",
       "3  1069408278  20241114   14      pro     NaN      NaN   800,00   \n",
       "4  1069426273  20241114   16  pro max     NaN      NaN  1020,00   \n",
       "\n",
       "           estado                nombre  reservado  \\\n",
       "0             new       iphone 16 128gb      False   \n",
       "1             new  iphone 14 pro morado      False   \n",
       "2  as_good_as_new             iphone 16      False   \n",
       "3            good         iphone 14 pro      False   \n",
       "4            good     iphone 16 pro max      False   \n",
       "\n",
       "                                                 url  tiene_color  \\\n",
       "0  https://es.wallapop.com/item/iphone-16-128gb-1...        False   \n",
       "1  https://es.wallapop.com/item/iphone-14-pro-mor...         True   \n",
       "2  https://es.wallapop.com/item/iphone-16-1069385453        False   \n",
       "3  https://es.wallapop.com/item/iphone-14-pro-106...        False   \n",
       "4  https://es.wallapop.com/item/iphone-16-pro-max...        False   \n",
       "\n",
       "   tiene_emojis  tiene_revisado comentario  \n",
       "0         False           False        NaN  \n",
       "1         False           False        NaN  \n",
       "2         False           False        NaN  \n",
       "3         False           False        NaN  \n",
       "4         False           False        NaN  "
      ]
     },
     "execution_count": 29,
     "metadata": {},
     "output_type": "execute_result"
    }
   ],
   "source": [
    "\n",
    "nombre_archivo = fecha + '_' + elemento_a_buscar + '_' + estado\n",
    "df_original = pd.read_csv(carpeta + '/' + nombre_archivo + '.csv')\n",
    "df_original.drop('Unnamed: 0', axis=1, inplace=True)\n",
    "df_original.head()"
   ]
  },
  {
   "cell_type": "code",
   "execution_count": 30,
   "metadata": {},
   "outputs": [],
   "source": [
    "df = df_original.copy()"
   ]
  },
  {
   "cell_type": "code",
   "execution_count": 31,
   "metadata": {},
   "outputs": [],
   "source": [
    "def encontrar_bateria(texto):\n",
    "    # Verificar si el texto es NaN o similar\n",
    "    if pd.isna(texto):\n",
    "        return None\n",
    "    # Asegurarse de que el texto sea tratado como una cadena\n",
    "    texto = str(texto)\n",
    "    # Buscar todos los números en el rango deseado en el texto\n",
    "    numeros = re.findall(r'\\b(?:8[0-9]|9[0-9]|100)\\b', texto)\n",
    "    if numeros:\n",
    "        return ', '.join(numeros)  # Unir todos los números encontrados con coma\n",
    "    return None  # Retornar None si no se encuentra ningún número\n",
    "df['bateria'] = df_original['comentario'].apply(encontrar_bateria)\n"
   ]
  },
  {
   "cell_type": "code",
   "execution_count": 32,
   "metadata": {},
   "outputs": [
    {
     "name": "stdout",
     "output_type": "stream",
     "text": [
      "id                   0\n",
      "fecha                0\n",
      "gen                  0\n",
      "mod                  0\n",
      "memoria            483\n",
      "bateria           1267\n",
      "precio               0\n",
      "estado               0\n",
      "nombre               0\n",
      "reservado            0\n",
      "url                  0\n",
      "tiene_color          0\n",
      "tiene_emojis         0\n",
      "tiene_revisado       0\n",
      "comentario        1212\n",
      "dtype: int64\n"
     ]
    }
   ],
   "source": [
    "missing_values = df_original.isnull().sum()\n",
    "print(missing_values)"
   ]
  },
  {
   "cell_type": "code",
   "execution_count": 33,
   "metadata": {},
   "outputs": [
    {
     "name": "stdout",
     "output_type": "stream",
     "text": [
      "id                   0\n",
      "fecha                0\n",
      "gen                  0\n",
      "mod                  0\n",
      "memoria            483\n",
      "bateria           1333\n",
      "precio               0\n",
      "estado               0\n",
      "nombre               0\n",
      "reservado            0\n",
      "url                  0\n",
      "tiene_color          0\n",
      "tiene_emojis         0\n",
      "tiene_revisado       0\n",
      "comentario        1212\n",
      "dtype: int64\n"
     ]
    }
   ],
   "source": [
    "missing_values = df.isnull().sum()\n",
    "print(missing_values)"
   ]
  },
  {
   "cell_type": "code",
   "execution_count": null,
   "metadata": {},
   "outputs": [],
   "source": []
  }
 ],
 "metadata": {
  "kernelspec": {
   "display_name": ".env",
   "language": "python",
   "name": "python3"
  },
  "language_info": {
   "codemirror_mode": {
    "name": "ipython",
    "version": 3
   },
   "file_extension": ".py",
   "mimetype": "text/x-python",
   "name": "python",
   "nbconvert_exporter": "python",
   "pygments_lexer": "ipython3",
   "version": "3.11.9"
  }
 },
 "nbformat": 4,
 "nbformat_minor": 2
}
